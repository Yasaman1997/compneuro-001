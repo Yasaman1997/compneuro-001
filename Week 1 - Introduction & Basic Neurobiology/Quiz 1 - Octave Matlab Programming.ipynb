{
 "metadata": {
  "name": "Quiz 1 - Octave Matlab Programming"
 },
 "nbformat": 3,
 "nbformat_minor": 0,
 "worksheets": [
  {
   "cells": [
    {
     "cell_type": "code",
     "collapsed": false,
     "input": "from numpy import array, eye, zeros, dot, multiply, tile, vstack, hstack, bmat, mat, ones, array_equal, arange",
     "language": "python",
     "metadata": {},
     "outputs": [],
     "prompt_number": 1
    },
    {
     "cell_type": "markdown",
     "metadata": {},
     "source": "## Question 1"
    },
    {
     "cell_type": "code",
     "collapsed": false,
     "input": "a = array([[1],[2],[3]])\n\narray_equal(mat('1 2 3').T, a)\n#array_equal(mat('1,2,3'), a)\n#array_equal(mat('1 2 3'), a)\narray_equal(mat('1;2;3'), a)",
     "language": "python",
     "metadata": {},
     "outputs": [
      {
       "output_type": "pyout",
       "prompt_number": 2,
       "text": "True"
      }
     ],
     "prompt_number": 2
    },
    {
     "cell_type": "markdown",
     "metadata": {},
     "source": "## Question 2"
    },
    {
     "cell_type": "code",
     "collapsed": false,
     "input": "a = array([[1,2,3],[2,3,4],[3,4,5],[4,5,6]])\nb = array([[2,3],[3,4],[4,5],[5,6]])\n\n#array_equal(a[1:3,:],b)\narray_equal(a[:,1:3],b)\n#array_equal(a[:,1],b)\n#array_equal(a[:,:],b)\n",
     "language": "python",
     "metadata": {},
     "outputs": [
      {
       "output_type": "pyout",
       "prompt_number": 3,
       "text": "True"
      }
     ],
     "prompt_number": 3
    },
    {
     "cell_type": "markdown",
     "metadata": {},
     "source": "## Question 3"
    },
    {
     "cell_type": "code",
     "collapsed": false,
     "input": "a = array([[1,2],[3,4]])\nb = array([[2,2],[3,3],[4,4]])\nc = eye(3)\nd = zeros((3,3))\n\n#a - b\ndot(d,b)\nmultiply(c,e)\n#dot(a,b)\ndot(c,e)\ndot(a,b.T)",
     "language": "python",
     "metadata": {},
     "outputs": [
      {
       "output_type": "pyout",
       "prompt_number": 4,
       "text": "array([[ 6,  9, 12],\n       [14, 21, 28]])"
      }
     ],
     "prompt_number": 4
    },
    {
     "cell_type": "markdown",
     "metadata": {},
     "source": "## Question 4"
    },
    {
     "cell_type": "code",
     "collapsed": false,
     "input": "b = array([[2,2],[3,3],[4,4]])\nd = array([[1,2,3]])\nf = array([[8],[9]])\n\nb + tile(f.T,(3,1))\n#b + bmat('f;f;f')  # vstack([f,f,f])\n#b - tile(f,(1,3))\nb - mat(hstack([d.T, dot(d.T, 2)]))  # bmat('dt dt2')",
     "language": "python",
     "metadata": {},
     "outputs": [
      {
       "output_type": "pyout",
       "prompt_number": 5,
       "text": "matrix([[ 1,  0],\n        [ 1, -1],\n        [ 1, -2]])"
      }
     ],
     "prompt_number": 5
    },
    {
     "cell_type": "markdown",
     "metadata": {},
     "source": "## Question 5"
    },
    {
     "cell_type": "code",
     "collapsed": false,
     "input": "a = array([[5],[5],[5],[5]])\n\narray_equal(ones((4,1))*5,a)\n#array_equal(fives((4,1)),a)\n#array_equal(ones((4,1)),a)\n#array_equal(ones((4,4))*5,a)  # this is different from MATLAB where `ones(4)` will produce a 4x4 matrix\n#array_equal(eye(4),a)",
     "language": "python",
     "metadata": {},
     "outputs": [
      {
       "output_type": "pyout",
       "prompt_number": 6,
       "text": "True"
      }
     ],
     "prompt_number": 6
    },
    {
     "cell_type": "markdown",
     "metadata": {},
     "source": "## Question 6"
    },
    {
     "cell_type": "code",
     "collapsed": false,
     "input": "a = array([[1,2,3,4,5],[2,3,4,5,6],[3,4,5,6,7],[4,5,6,7,8],[5,6,7,8,9]])\nb = array([[1,3,5],[2,4,6],[3,5,7],[4,6,8],[5,7,9]])\n\n#array_equal(mat(hstack([a[0],a[0],a[0]])),b)\narray_equal(hstack([a[:,0,newaxis], a[:,2,newaxis], a[:,4,newaxis]]),b)  # requires `newaxis` since otherwise a simple vector is returned\n#array_equal(a[0:5:2,:],b)\n#array_equal(a[:,0:3],b)\narray_equal(a[:,0:5:2],b)\n",
     "language": "python",
     "metadata": {},
     "outputs": [
      {
       "output_type": "pyout",
       "prompt_number": 7,
       "text": "True"
      }
     ],
     "prompt_number": 7
    },
    {
     "cell_type": "markdown",
     "metadata": {},
     "source": "## Question 7"
    },
    {
     "cell_type": "code",
     "collapsed": false,
     "input": "x = arange(0,5,0.05)\ny = sin(x**2)\nplot(x, y)",
     "language": "python",
     "metadata": {},
     "outputs": [
      {
       "output_type": "pyout",
       "prompt_number": 8,
       "text": "[<matplotlib.lines.Line2D at 0x7f4d668>]"
      },
      {
       "output_type": "display_data",
       "png": "[encoded data removed]"
      }
     ],
     "prompt_number": 8
    },
    {
     "cell_type": "markdown",
     "metadata": {},
     "source": "## Question 8"
    },
    {
     "cell_type": "code",
     "collapsed": false,
     "input": "a = array([[1,0,-4,8,3],[4,-2,3,3,1]])\nb = zeros((1,5))\nfor i in range(a.shape[1]):\n    if a[0,i] > a[1,i]:\n        b[0][i] = a[0,i]\n    else:\n        b[0][i] = a[1,i]\nprint b",
     "language": "python",
     "metadata": {},
     "outputs": [
      {
       "output_type": "stream",
       "stream": "stdout",
       "text": "[[ 4.  0.  3.  8.  3.]]\n"
      }
     ],
     "prompt_number": 9
    },
    {
     "cell_type": "markdown",
     "metadata": {},
     "source": "## Question 9"
    },
    {
     "cell_type": "code",
     "collapsed": false,
     "input": "x = 1\nwhile x > 1e-5:\n    x = x / 2.0\nprint '%.3g' % x",
     "language": "python",
     "metadata": {},
     "outputs": [
      {
       "output_type": "stream",
       "stream": "stdout",
       "text": "7.63e-06\n"
      }
     ],
     "prompt_number": 10
    },
    {
     "cell_type": "markdown",
     "metadata": {},
     "source": "## Question 10"
    },
    {
     "cell_type": "code",
     "collapsed": false,
     "input": "a = array([[0,0,0],[0,0,0]])\n\n#array_equal(zeros(2),a)\n#array_equal(zeros(3),a)\n#array_equal(zeros((3,2)),a)\n#array_equal(eye(2,3),a)\narray_equal(zeros((2,3)),a)\narray_equal(mat('0 0 0; 0 0 0'),a)\n#array_equal(mat('0 0; 0 0; 0 0'),a)",
     "language": "python",
     "metadata": {},
     "outputs": [
      {
       "output_type": "pyout",
       "prompt_number": 11,
       "text": "True"
      }
     ],
     "prompt_number": 11
    }
   ],
   "metadata": {}
  }
 ]
}