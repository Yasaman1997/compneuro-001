{
 "metadata": {
  "name": "Quiz 2 - Spike Triggered Averages - A Glimpse Into Neural Encoding"
 },
 "nbformat": 3,
 "nbformat_minor": 0,
 "worksheets": [
  {
   "cells": [
    {
     "cell_type": "code",
     "collapsed": false,
     "input": [
      "import matplotlib.pyplot as plt\n",
      "import scipy.io\n",
      "import requests\n",
      "import numpy\n",
      "import os"
     ],
     "language": "python",
     "metadata": {},
     "outputs": [],
     "prompt_number": 1
    },
    {
     "cell_type": "code",
     "collapsed": false,
     "input": [
      "url = 'https://spark-public.s3.amazonaws.com/compneuro/code/c1p8.mat'\n",
      "out = 'c1p8.mat'\n",
      "\n",
      "# download file\n",
      "if not os.path.isfile(out):\n",
      "    r = requests.get(url, stream=True)\n",
      "    with open(out, 'wb') as f:\n",
      "        for chunk in r.iter_content(chunk_size=512 * 1024):  # Reads 512KB at a time into memory\n",
      "             if chunk:  # filter out keep-alive chunks\n",
      "                    f.write(chunk)\n",
      "\n",
      "# load mat file\n",
      "mat = scipy.io.loadmat(out, squeeze_me=True)"
     ],
     "language": "python",
     "metadata": {},
     "outputs": [],
     "prompt_number": 2
    },
    {
     "cell_type": "code",
     "collapsed": false,
     "input": [
      "sampling_period = 2.0  # ms\n",
      "time_window = 300.0  # ms"
     ],
     "language": "python",
     "metadata": {},
     "outputs": [],
     "prompt_number": 3
    },
    {
     "cell_type": "markdown",
     "metadata": {},
     "source": [
      "### Question 3"
     ]
    },
    {
     "cell_type": "code",
     "collapsed": false,
     "input": [
      "num_timesteps = time_window / sampling_period\n",
      "print(num_timesteps)"
     ],
     "language": "python",
     "metadata": {},
     "outputs": [
      {
       "output_type": "stream",
       "stream": "stdout",
       "text": [
        "150.0\n"
       ]
      }
     ],
     "prompt_number": 4
    },
    {
     "cell_type": "markdown",
     "metadata": {},
     "source": [
      "### Question 4\n",
      "\n",
      "Count number of spike activations, that is, all non-zero values after 300ms in the `rho` data."
     ]
    },
    {
     "cell_type": "code",
     "collapsed": false,
     "input": [
      "rho = mat['rho'][num_timesteps:]\n",
      "\n",
      "spike_times = rho.nonzero()[0]\n",
      "num_spikes = spike_times.size\n",
      "print(num_spikes)"
     ],
     "language": "python",
     "metadata": {},
     "outputs": [
      {
       "output_type": "stream",
       "stream": "stdout",
       "text": [
        "53583\n"
       ]
      }
     ],
     "prompt_number": 5
    },
    {
     "cell_type": "markdown",
     "metadata": {},
     "source": [
      "### Question 5\n",
      "\n",
      "Don't forget `spike_times` indices have `num_timestep` offset, since they are extracted from a view.\n",
      "\n",
      "This is useful for the rolling window view used below, since we can index from that offset + 1, and the rolling window will give us the next `num_timesteps` elements up to the index from `spike_times`."
     ]
    },
    {
     "cell_type": "code",
     "collapsed": false,
     "input": [
      "stim = mat['stim']\n",
      "\n",
      "rolling_window = np.lib.stride_tricks.as_strided(stim, shape=(stim.shape[0], num_timesteps), strides=(stim.strides[0],)*2)\n",
      "time_windows = rolling_window[spike_times + 1,:]\n",
      "\n",
      "fig, ax = plt.subplots()\n",
      "ax.plot(numpy.arange(-time_window,0,sampling_period), time_windows.mean(axis=0))\n",
      "ax.set_xlabel('Time (ms)')\n",
      "ax.set_ylabel('Stimulus')\n",
      "ax.set_title('Spike-Triggered Average');"
     ],
     "language": "python",
     "metadata": {},
     "outputs": [
      {
       "output_type": "display_data",
       "png": "[encoded data removed]"
      }
     ],
     "prompt_number": 6
    }
   ],
   "metadata": {}
  }
 ]
}